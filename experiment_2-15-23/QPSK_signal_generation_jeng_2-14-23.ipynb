{
 "cells": [
  {
   "cell_type": "code",
   "execution_count": 1,
   "id": "d0e3ce34",
   "metadata": {},
   "outputs": [],
   "source": [
    "import math\n",
    "import numpy as np\n",
    "import matplotlib.pyplot as plt\n",
    "import matplotlib\n",
    "from scipy.signal import lfilter\n",
    "\n",
    "def Information_Transmit():\n",
    "    M = 2 # bits per symbol (i.e. 2 in QPSK modulation)\n",
    "    ## Information to transmit\n",
    "    Info_to_TX='I attend Washington University in St. Louis.' # 44 characters\n",
    "    #Info_to_TX = 'A B'\n",
    "    print('information to transmit:',Info_to_TX)\n",
    "    \n",
    "    # converts text string into binary\n",
    "    binary = ''.join(format(ord(i), '07b') for i in Info_to_TX)\n",
    "    print('binary equivalent:',binary)\n",
    "    print('length of binary:', len(binary))\n",
    "    # convert sequence of bits into an array\n",
    "    data_bits = np.zeros((len(binary),))\n",
    "    for i in range(len(binary)):\n",
    "        data_bits[i] = binary[i]\n",
    "    print('array equivalent:',data_bits)\n",
    "    \n",
    "    # Add synch_word\n",
    "    sync_word = np.asarray([1, 1, 1, 0, 1, 0, 1, 1, 1, 0, 0, 1, 0, 0, 0, 0])\n",
    "    print('sync_word:',sync_word)\n",
    "    bit_sequence = np.hstack([sync_word, data_bits])\n",
    "    \n",
    "    # Add Preamble\n",
    "    preamle_code = np.asarray([1,1,0,0])\n",
    "    for i in range(16):\n",
    "        if i ==0:\n",
    "             preamble_swap = preamle_code\n",
    "        else:    \n",
    "            preamble = np.hstack([preamble_swap, preamle_code])\n",
    "            preamble_swap = preamble\n",
    "    \n",
    "    print('preamble:',preamble)\n",
    "    print('length of preamble:', len(preamble))\n",
    "    QPSK_frame = np.hstack([preamble, bit_sequence])\n",
    "    \n",
    "    print('Transmit Frame length:',len(QPSK_frame))\n",
    "    print('Transmit bit sequence:',QPSK_frame)\n",
    "    # Convert serial data to parallel\n",
    "    def Serial_to_Parallel(x):\n",
    "        return x.reshape((len(x)//M, M))\n",
    "    QPSK_bits = Serial_to_Parallel(QPSK_frame)\n",
    "\n",
    "    print('QPSK signal to transmit[0:5]:\\n',QPSK_bits[0:5])\n",
    "    return QPSK_bits"
   ]
  },
  {
   "cell_type": "code",
   "execution_count": 2,
   "id": "619cd10d",
   "metadata": {
    "scrolled": true
   },
   "outputs": [
    {
     "name": "stdout",
     "output_type": "stream",
     "text": [
      "information to transmit: I attend Washington University in St. Louis.\n",
      "binary equivalent: 10010010100000110000111101001110100110010111011101100100010000010101111100001111001111010001101001110111011001111110100110111111011100100000101010111011101101001111011011001011110010111001111010011110100111100101000001101001110111001000001010011111010001011100100000100110011011111110101110100111100110101110\n",
      "length of binary: 308\n",
      "array equivalent: [1. 0. 0. 1. 0. 0. 1. 0. 1. 0. 0. 0. 0. 0. 1. 1. 0. 0. 0. 0. 1. 1. 1. 1.\n",
      " 0. 1. 0. 0. 1. 1. 1. 0. 1. 0. 0. 1. 1. 0. 0. 1. 0. 1. 1. 1. 0. 1. 1. 1.\n",
      " 0. 1. 1. 0. 0. 1. 0. 0. 0. 1. 0. 0. 0. 0. 0. 1. 0. 1. 0. 1. 1. 1. 1. 1.\n",
      " 0. 0. 0. 0. 1. 1. 1. 1. 0. 0. 1. 1. 1. 1. 0. 1. 0. 0. 0. 1. 1. 0. 1. 0.\n",
      " 0. 1. 1. 1. 0. 1. 1. 1. 0. 1. 1. 0. 0. 1. 1. 1. 1. 1. 1. 0. 1. 0. 0. 1.\n",
      " 1. 0. 1. 1. 1. 1. 1. 1. 0. 1. 1. 1. 0. 0. 1. 0. 0. 0. 0. 0. 1. 0. 1. 0.\n",
      " 1. 0. 1. 1. 1. 0. 1. 1. 1. 0. 1. 1. 0. 1. 0. 0. 1. 1. 1. 1. 0. 1. 1. 0.\n",
      " 1. 1. 0. 0. 1. 0. 1. 1. 1. 1. 0. 0. 1. 0. 1. 1. 1. 0. 0. 1. 1. 1. 1. 0.\n",
      " 1. 0. 0. 1. 1. 1. 1. 0. 1. 0. 0. 1. 1. 1. 1. 0. 0. 1. 0. 1. 0. 0. 0. 0.\n",
      " 0. 1. 1. 0. 1. 0. 0. 1. 1. 1. 0. 1. 1. 1. 0. 0. 1. 0. 0. 0. 0. 0. 1. 0.\n",
      " 1. 0. 0. 1. 1. 1. 1. 1. 0. 1. 0. 0. 0. 1. 0. 1. 1. 1. 0. 0. 1. 0. 0. 0.\n",
      " 0. 0. 1. 0. 0. 1. 1. 0. 0. 1. 1. 0. 1. 1. 1. 1. 1. 1. 1. 0. 1. 0. 1. 1.\n",
      " 1. 0. 1. 0. 0. 1. 1. 1. 1. 0. 0. 1. 1. 0. 1. 0. 1. 1. 1. 0.]\n",
      "sync_word: [1 1 1 0 1 0 1 1 1 0 0 1 0 0 0 0]\n",
      "preamble: [1 1 0 0 1 1 0 0 1 1 0 0 1 1 0 0 1 1 0 0 1 1 0 0 1 1 0 0 1 1 0 0 1 1 0 0 1\n",
      " 1 0 0 1 1 0 0 1 1 0 0 1 1 0 0 1 1 0 0 1 1 0 0 1 1 0 0]\n",
      "length of preamble: 64\n",
      "Transmit Frame length: 388\n",
      "Transmit bit sequence: [1. 1. 0. 0. 1. 1. 0. 0. 1. 1. 0. 0. 1. 1. 0. 0. 1. 1. 0. 0. 1. 1. 0. 0.\n",
      " 1. 1. 0. 0. 1. 1. 0. 0. 1. 1. 0. 0. 1. 1. 0. 0. 1. 1. 0. 0. 1. 1. 0. 0.\n",
      " 1. 1. 0. 0. 1. 1. 0. 0. 1. 1. 0. 0. 1. 1. 0. 0. 1. 1. 1. 0. 1. 0. 1. 1.\n",
      " 1. 0. 0. 1. 0. 0. 0. 0. 1. 0. 0. 1. 0. 0. 1. 0. 1. 0. 0. 0. 0. 0. 1. 1.\n",
      " 0. 0. 0. 0. 1. 1. 1. 1. 0. 1. 0. 0. 1. 1. 1. 0. 1. 0. 0. 1. 1. 0. 0. 1.\n",
      " 0. 1. 1. 1. 0. 1. 1. 1. 0. 1. 1. 0. 0. 1. 0. 0. 0. 1. 0. 0. 0. 0. 0. 1.\n",
      " 0. 1. 0. 1. 1. 1. 1. 1. 0. 0. 0. 0. 1. 1. 1. 1. 0. 0. 1. 1. 1. 1. 0. 1.\n",
      " 0. 0. 0. 1. 1. 0. 1. 0. 0. 1. 1. 1. 0. 1. 1. 1. 0. 1. 1. 0. 0. 1. 1. 1.\n",
      " 1. 1. 1. 0. 1. 0. 0. 1. 1. 0. 1. 1. 1. 1. 1. 1. 0. 1. 1. 1. 0. 0. 1. 0.\n",
      " 0. 0. 0. 0. 1. 0. 1. 0. 1. 0. 1. 1. 1. 0. 1. 1. 1. 0. 1. 1. 0. 1. 0. 0.\n",
      " 1. 1. 1. 1. 0. 1. 1. 0. 1. 1. 0. 0. 1. 0. 1. 1. 1. 1. 0. 0. 1. 0. 1. 1.\n",
      " 1. 0. 0. 1. 1. 1. 1. 0. 1. 0. 0. 1. 1. 1. 1. 0. 1. 0. 0. 1. 1. 1. 1. 0.\n",
      " 0. 1. 0. 1. 0. 0. 0. 0. 0. 1. 1. 0. 1. 0. 0. 1. 1. 1. 0. 1. 1. 1. 0. 0.\n",
      " 1. 0. 0. 0. 0. 0. 1. 0. 1. 0. 0. 1. 1. 1. 1. 1. 0. 1. 0. 0. 0. 1. 0. 1.\n",
      " 1. 1. 0. 0. 1. 0. 0. 0. 0. 0. 1. 0. 0. 1. 1. 0. 0. 1. 1. 0. 1. 1. 1. 1.\n",
      " 1. 1. 1. 0. 1. 0. 1. 1. 1. 0. 1. 0. 0. 1. 1. 1. 1. 0. 0. 1. 1. 0. 1. 0.\n",
      " 1. 1. 1. 0.]\n",
      "QPSK signal to transmit[0:5]:\n",
      " [[1. 1.]\n",
      " [0. 0.]\n",
      " [1. 1.]\n",
      " [0. 0.]\n",
      " [1. 1.]]\n",
      "decimal number equivalent: [3. 0. 3. 0. 3. 0. 3. 0. 3. 0. 3. 0. 3. 0. 3. 0. 3. 0. 3. 0. 3. 0. 3. 0.\n",
      " 3. 0. 3. 0. 3. 0. 3. 0. 3. 2. 2. 3. 2. 1. 0. 0. 2. 1. 0. 2. 2. 0. 0. 3.\n",
      " 0. 0. 3. 3. 1. 0. 3. 2. 2. 1. 2. 1. 1. 3. 1. 3. 1. 2. 1. 0. 1. 0. 0. 1.\n",
      " 1. 1. 3. 3. 0. 0. 3. 3. 0. 3. 3. 1. 0. 1. 2. 2. 1. 3. 1. 3. 1. 2. 1. 3.\n",
      " 3. 2. 2. 1. 2. 3. 3. 3. 1. 3. 0. 2. 0. 0. 2. 2. 2. 3. 2. 3. 2. 3. 1. 0.\n",
      " 3. 3. 1. 2. 3. 0. 2. 3. 3. 0. 2. 3. 2. 1. 3. 2. 2. 1. 3. 2. 2. 1. 3. 2.\n",
      " 1. 1. 0. 0. 1. 2. 2. 1. 3. 1. 3. 0. 2. 0. 0. 2. 2. 1. 3. 3. 1. 0. 1. 1.\n",
      " 3. 0. 2. 0. 0. 2. 1. 2. 1. 2. 3. 3. 3. 2. 2. 3. 2. 2. 1. 3. 2. 1. 2. 2.\n",
      " 3. 2.]\n"
     ]
    }
   ],
   "source": [
    "Frame = Information_Transmit()\n",
    "## Convert the binary into decimal 0,1,2,3\n",
    "data1=[]\n",
    "for i in range(len(Frame)):\n",
    "    data1.append(2*Frame[i][0]+Frame[i][1])\n",
    "Dec4_data = np.array(data1)\n",
    "print('decimal number equivalent:',Dec4_data)"
   ]
  },
  {
   "cell_type": "code",
   "execution_count": 3,
   "id": "fe0c7dac",
   "metadata": {},
   "outputs": [],
   "source": [
    "def lut(data, inputVec, outputVec):\n",
    "    if len(inputVec) != len(outputVec):\n",
    "        print('Input and Output vectors must have identical length')\n",
    "    # Initialize output\n",
    "    output = np.zeros(data.shape)\n",
    "    # For each possible data value\n",
    "    eps = np.finfo('float').eps\n",
    "    for i in range(len(inputVec)):\n",
    "        # Find the indices where data is equal to that input value\n",
    "        for k in range(len(data)):\n",
    "            if abs(data[k]-inputVec[i]) < eps:\n",
    "                # Set those indices in the output to be the appropriate output value.\n",
    "                output[k] = outputVec[i]\n",
    "    return output"
   ]
  },
  {
   "cell_type": "code",
   "execution_count": 4,
   "id": "2b91e04c",
   "metadata": {},
   "outputs": [],
   "source": [
    "def oversample(x, OS_Rate):\n",
    "    # Initialize output\n",
    "    length = len(x[0])\n",
    "    x_s = np.zeros((1,length*OS_Rate))\n",
    "    # Fill in one out of every OS_Rate samples with the input values\n",
    "    count = 0\n",
    "    h = 0\n",
    "    for k in range(len(x_s[0])):\n",
    "        count = count + 1\n",
    "        if count == OS_Rate:\n",
    "            x_s[0][k] = x[0][h]\n",
    "            count = 0\n",
    "            h = h + 1\n",
    "    return x_s"
   ]
  },
  {
   "cell_type": "code",
   "execution_count": 5,
   "id": "4334b2f7",
   "metadata": {},
   "outputs": [],
   "source": [
    "def SRRC(alpha, N, Lp):\n",
    "    # Add epsilon to the n values to avoid numerical problems\n",
    "    ntemp = list(range(-N*Lp, N*Lp+1))\n",
    "    n = []\n",
    "    for each in ntemp:\n",
    "        n.append(each + math.pow(10,-9))\n",
    "    # Plug into time domain formula for the SRRC pulse shape\n",
    "    h = []\n",
    "    coeff = 1/math.sqrt(N)\n",
    "    for each in n:\n",
    "        sine_term = math.sin(math.pi * each * (1-alpha) / N)\n",
    "        cosine_term = math.cos(math.pi * each * (1+alpha) / N)\n",
    "        cosine_coeff = 4 * alpha * each / N\n",
    "        numerator = sine_term + (cosine_coeff * cosine_term)\n",
    "        denom_coeff = math.pi * each / N\n",
    "        denom_part = 1 - math.pow(cosine_coeff, 2)\n",
    "        denominator = denom_coeff * denom_part\n",
    "        pulse = coeff * numerator / denominator\n",
    "        h.append(pulse)\n",
    "    return h"
   ]
  },
  {
   "cell_type": "code",
   "execution_count": 6,
   "id": "e34d8c18",
   "metadata": {},
   "outputs": [],
   "source": [
    "###########################################\n",
    "### Modulation\n",
    "### INPUT: data\n",
    "### OUTPUT: modulated values, x\n",
    "\n",
    "A = math.sqrt(9/2)\n",
    "inputVec   = [0, 1, 2, 3]\n",
    "outputVecI = [A, -A, A, -A]\n",
    "outputVecQ = [A, A, -A, -A]\n",
    "xI         = lut(Dec4_data, inputVec, outputVecI)\n",
    "xQ         = lut(Dec4_data, inputVec, outputVecQ)\n",
    "xI = xI.reshape((1,len(Dec4_data)))\n",
    "xQ = xQ.reshape((1,len(Dec4_data)))"
   ]
  },
  {
   "cell_type": "code",
   "execution_count": 7,
   "id": "30d25b51",
   "metadata": {},
   "outputs": [],
   "source": [
    "###########################################\n",
    "### Upsample\n",
    "### INPUT: modulated values, x\n",
    "### OUTPUT: modulated values at sampling rate, x_s\n",
    "\n",
    "x_s_I = oversample(xI,8)\n",
    "x_s_Q = oversample(xQ,8)"
   ]
  },
  {
   "cell_type": "code",
   "execution_count": 8,
   "id": "b9da8f3d",
   "metadata": {},
   "outputs": [
    {
     "data": {
      "image/png": "[encoded data removed]",
      "text/plain": [
       "<Figure size 432x288 with 1 Axes>"
      ]
     },
     "metadata": {
      "needs_background": "light"
     },
     "output_type": "display_data"
    }
   ],
   "source": [
    "pulse = SRRC(0.5, 8, 6)\n",
    "pulse = np.array(pulse)\n",
    "pulse = np.reshape(pulse, pulse.size)\n",
    "plt.figure()\n",
    "plt.plot(pulse,label='SRRC pulse shape')\n",
    "plt.legend()\n",
    "\n",
    "x_s_I = np.reshape(x_s_I, x_s_I.size)\n",
    "x_s_Q = np.reshape(x_s_Q, x_s_Q.size)\n",
    "s_0_I = np.convolve(x_s_I, pulse, mode='full')\n",
    "s_0_Q = np.convolve(x_s_Q, pulse, mode='full')\n",
    "\n"
   ]
  },
  {
   "cell_type": "code",
   "execution_count": 9,
   "id": "bda8f849",
   "metadata": {},
   "outputs": [
    {
     "name": "stdout",
     "output_type": "stream",
     "text": [
      "QPSK_samples[0:10]: [ 0.        +0.j          0.        +0.j          0.        +0.j\n",
      "  0.        +0.j          0.        +0.j          0.        +0.j\n",
      "  0.        +0.j         -0.00333891-0.00333891j -0.00283863-0.00283863j\n",
      " -0.00127108-0.00127108j]\n"
     ]
    }
   ],
   "source": [
    "# create complex IQ value from the I and Q components\n",
    "QPSK_samples = s_0_I + s_0_Q*1j\n",
    "\n",
    "print('QPSK_samples[0:10]:',QPSK_samples[0:10])"
   ]
  },
  {
   "cell_type": "code",
   "execution_count": 10,
   "id": "a2b06c94",
   "metadata": {},
   "outputs": [
    {
     "name": "stdout",
     "output_type": "stream",
     "text": [
      "QPSK_samples_Final[1020:1040] [ 0.        +0.j          0.        +0.j          0.        +0.j\n",
      "  0.        +0.j          0.        +0.j          0.        +0.j\n",
      "  0.        +0.j          0.        +0.j          0.        +0.j\n",
      "  0.        +0.j          0.        +0.j         -0.00333891-0.00333891j\n",
      " -0.00283863-0.00283863j -0.00127108-0.00127108j  0.00092964+0.00092964j\n",
      "  0.00306926+0.00306926j  0.00441   +0.00441j     0.00442226+0.00442226j\n",
      "  0.00298813+0.00298813j  0.0038212 +0.0038212j ]\n"
     ]
    },
    {
     "data": {
      "image/png": "[encoded data removed]",
      "text/plain": [
       "<Figure size 432x288 with 1 Axes>"
      ]
     },
     "metadata": {
      "needs_background": "light"
     },
     "output_type": "display_data"
    }
   ],
   "source": [
    "## Add 1024 zero value samples at the beginning\n",
    "## Zeros are added to compensate for samples lost during initialization at the receiver\n",
    "QPSK_samples_Final = np.hstack([np.zeros(1024, dtype=type(QPSK_samples[0])),QPSK_samples])\n",
    "\n",
    "plt.figure()\n",
    "plt.plot(np.real(QPSK_samples_Final[1700:2000]),label='Real Signal')\n",
    "plt.plot(np.imag(QPSK_samples_Final[1700:2000]),label='Imag Signal')\n",
    "plt.grid('on')\n",
    "plt.legend()\n",
    "print('QPSK_samples_Final[1020:1040]',QPSK_samples_Final[1020:1040])"
   ]
  },
  {
   "cell_type": "code",
   "execution_count": 11,
   "id": "c09cd082",
   "metadata": {},
   "outputs": [],
   "source": [
    "def write_complex_binary(data, filename):\n",
    "    '''\n",
    "    Open filename and write array to it as binary\n",
    "    Format is interleaved float IQ e.g. each I,Q should be 32-bit float \n",
    "    INPUT\n",
    "    ----\n",
    "    data:     data to be wrote into the file. format: (length, )\n",
    "    filename: file name\n",
    "    '''\n",
    "    re = np.real(data)\n",
    "    im = np.imag(data)\n",
    "    binary = np.zeros(len(data)*2, dtype=np.float32)\n",
    "    binary[::2] = re\n",
    "    binary[1::2] = im\n",
    "    binary.tofile(filename)   \n",
    "write_complex_binary(QPSK_samples_Final, 'QPSK_signal_2-14-23.iq')"
   ]
  },
  {
   "cell_type": "code",
   "execution_count": 12,
   "id": "746c65a5",
   "metadata": {},
   "outputs": [],
   "source": [
    "def get_samps_from_file(filename): \n",
    "    '''\n",
    "    load samples from the binary file\n",
    "    '''\n",
    "    # File should be in GNURadio's format, i.e., interleaved I/Q samples as float32\n",
    "    samples = np.fromfile(filename, dtype=np.float32)\n",
    "    samps = (samples[::2] + 1j*samples[1::2]).astype((np.complex64)) # convert to IQIQIQ  \n",
    "    return samps"
   ]
  },
  {
   "cell_type": "code",
   "execution_count": 13,
   "id": "1fe72feb",
   "metadata": {},
   "outputs": [
    {
     "data": {
      "text/plain": [
       "array([-0.22096212-0.7503305j ,  0.03858509-0.7489787j ,\n",
       "        0.28267714-0.74889374j,  0.49262205-0.74961257j,\n",
       "        0.65803987-0.75039923j,  0.7746098 -0.75400394j,\n",
       "        0.8538176 -0.75039923j,  0.9112518 -0.74961257j,\n",
       "        0.9538225 -0.74889374j,  0.9866271 -0.7489787j ], dtype=complex64)"
      ]
     },
     "execution_count": 13,
     "metadata": {},
     "output_type": "execute_result"
    }
   ],
   "source": [
    "get_samps_from_file('QPSK_signal_2-14-23.iq')[-150:-140]"
   ]
  },
  {
   "cell_type": "code",
   "execution_count": null,
   "id": "0ec4eaed",
   "metadata": {},
   "outputs": [],
   "source": [
    "# results from QPSK_signal_generationV3_2-14-23 (with original message)\n",
    "# array([-0.1856497 -1.0135834j ,  0.14976051-1.0190736j ,\n",
    "#         0.46958673-0.9982253j ,  0.7310762 -0.9517634j ,\n",
    "#         0.89759463-0.8771833j ,  0.9422445 -0.7736452j ,\n",
    "#         0.8691126 -0.6333168j ,  0.68172014-0.45211047j,\n",
    "#         0.4129948 -0.23951492j,  0.10260088-0.00750253j], dtype=complex64)"
   ]
  }
 ],
 "metadata": {
  "kernelspec": {
   "display_name": "Python 3",
   "language": "python",
   "name": "python3"
  },
  "language_info": {
   "codemirror_mode": {
    "name": "ipython",
    "version": 3
   },
   "file_extension": ".py",
   "mimetype": "text/x-python",
   "name": "python",
   "nbconvert_exporter": "python",
   "pygments_lexer": "ipython3",
   "version": "3.8.8"
  }
 },
 "nbformat": 4,
 "nbformat_minor": 5
}
